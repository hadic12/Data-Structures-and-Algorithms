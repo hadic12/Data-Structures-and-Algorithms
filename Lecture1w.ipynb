{
  "nbformat": 4,
  "nbformat_minor": 0,
  "metadata": {
    "colab": {
      "provenance": [],
      "toc_visible": true,
      "include_colab_link": true
    },
    "kernelspec": {
      "name": "python3",
      "display_name": "Python 3"
    },
    "language_info": {
      "name": "python"
    }
  },
  "cells": [
    {
      "cell_type": "markdown",
      "metadata": {
        "id": "view-in-github",
        "colab_type": "text"
      },
      "source": [
        "<a href=\"https://colab.research.google.com/github/hadic12/Data-Structures-and-Algorithms/blob/main/Lecture1w.ipynb\" target=\"_parent\"><img src=\"https://colab.research.google.com/assets/colab-badge.svg\" alt=\"Open In Colab\"/></a>"
      ]
    },
    {
      "cell_type": "markdown",
      "source": [
        "### I. Sets\n",
        "\n",
        "A <u>set</u> is a collection of non-duplicated objects. Members of a set are often called called \"elements.\"\n",
        "\n",
        "**Examples**:\n",
        "\n",
        "a) {-2, 3, 1.2343, $\\pi$, 0}\n",
        "\n",
        "b) { }\n",
        "\n",
        "c) {$x^2$, 1, $e^x$}\n",
        "\n",
        "d) True or False: {1, 2, 2} = {1, 2}?\n",
        "\n",
        "e) $\\mathbb{N}$ = {1, 2, 3, ... }\n",
        "\n",
        "f) True or False: $\\mathbb{R}$ is a set."
      ],
      "metadata": {
        "id": "EPmt11lhwcrC"
      }
    },
    {
      "cell_type": "markdown",
      "source": [
        "**Exercise**. Write down a set that contains all linear functions in 2-space."
      ],
      "metadata": {
        "id": "r2nccprWSJHF"
      }
    },
    {
      "cell_type": "markdown",
      "source": [
        "### II. Points in $\\mathbb{R}^n$\n",
        "\n",
        "a) $\\mathbb{R}^1 = \\{x: x \\in \\mathbb{R}\\}$\n",
        "\n",
        "b) $\\mathbb{R}^2 = \\{(x,y): x, y \\in \\mathbb{R}\\}$\n",
        "\n",
        "c) $\\mathbb{R}^3 = \\{(x,y,z): x, y, z \\in \\mathbb{R}\\}$\n",
        "\n",
        "d) $\\mathbb{R}^4 = \\{(x_1, x_2, x_3, x_4): x_i \\in \\mathbb{R}\\}$\n",
        "\n",
        "e) $\\mathbb{R}^n = $"
      ],
      "metadata": {
        "id": "E-Uy8EcADvqr"
      }
    },
    {
      "cell_type": "markdown",
      "source": [
        "**Exercise**. How can we visualize point *A*(2, 3)? *B*(2, 3, -1)?\n",
        "\n",
        "**Question**. How can we think of $\\mathbb{R}^3$ as a set? What do all the elements have in common? How many elements are there in the set?"
      ],
      "metadata": {
        "id": "u8bcV8ZKSoUM"
      }
    },
    {
      "cell_type": "markdown",
      "source": [
        "### III. Vectors in $\\mathbb{R}^n$\n",
        "\n",
        "Vectors are similar to points but have some important additional properties that points don't have.\n",
        "\n",
        "A <u>vector</u> is a mathematical object that has *magnitude* (length) and *direction*.\n",
        "\n",
        "For example,\n",
        "\n",
        "  \\begin{align}\n",
        "    \\mathbb{x} &= \\begin{bmatrix}\n",
        "           x_{1} \\\\\n",
        "           x_{2} \\\\\n",
        "           \\vdots \\\\\n",
        "           x_{n}\n",
        "         \\end{bmatrix}\n",
        "  \\end{align}\n",
        "\n",
        "is a general column vector in $\\mathbb{R}^n$.\n",
        "\n",
        "Specific vectors are:\n",
        "\n",
        "a) $v_1 = [1, -8]$    \n",
        "\n",
        "b) $v_2 = <1, -8>$\n",
        "\n",
        "c) $v_3 = [1, -8]^T$\n",
        "\n",
        "d) $u_1 = <-4, 9>$\n",
        "\n",
        "e) $v_4 = [-9, 2, 4, 9, 2, 0, 0, 1000000, 0.1]$\n",
        "\n",
        "f) $\\vec{c} = <0, 0, 0, 0>$\n",
        "\n",
        "g) $\\vec{d} = \\vec{1}$\n",
        "\n",
        "h) $v_5 = 2v_3$ (this illustrates \"scalar multiplication, see problem 10 on WAMAP HW1)\n",
        "\n",
        "The above vectors are in _______ dimensions.\n",
        "Unless otherwise specified we generally assume that $v$ is a _____ (row, column) vector.\n",
        "\n",
        "Geometrically a vector can be placed anywhere in space, but a vector in $\\mathbb{R}^n$ is in *standard position* if its tail is placed at the _____.\n",
        "\n",
        "**Question**. What is $\\{v_2, v_3, u_1\\}$?"
      ],
      "metadata": {
        "id": "TGsw1gecRxf_"
      }
    },
    {
      "cell_type": "markdown",
      "source": [
        "### IV. Calculus and Linear Algebra\n",
        "\n",
        "A *function* describes a relationship between different points in terms of inputs and outputs.\n",
        "\n",
        "**Example**: $f(x) = x^2 -2$. Describe this function using a graph, sets, and its tangent line function.\n",
        "\n",
        "Calculus uses tools from algebra and geometry to study the continuous way (rate) the outputs of a function change as the inputs change. Linear Algebra (on the other hand) is the study of vectors and systems of linear equations.\n",
        "\n",
        "\n",
        "**Example**:\n",
        "\\begin{array}{lcl} 2x_1 - x_2 & = & 3 \\\\ 4x_1 -5x_2 & = & 4 \\end{array}\n",
        "\n",
        "is a system of of linear equations that has a solution in $\\mathbb{R}^2$. A common task in linear algebra is to write the system in $Ax = b$ form, then study the properties of $A$ and $b$ to determine the characteristics of the solution vector $x = [x_1, x_2]^T$."
      ],
      "metadata": {
        "id": "-h5wwOfoECRh"
      }
    },
    {
      "cell_type": "markdown",
      "source": [
        "### V. Data Science\n",
        "\n",
        "A <u>model</u> is a mathematical description of the relationship between two or more different variables. This kind of modeling is common in statistics, machine learning, dynamical systems, regression, and classification.\n",
        "\n",
        "<u>Data science</u> is the process of using data to formulate a model that gives us insight (reveals connections, makes predictions, etc) about an underlying phenomena that we wish to study. Modern data science involves tools from statistics, computer science, machine learning, and other areas of mathematics (depending on the specific application). Linear Algebra lies at the heart of data science and modeling applications, which is why we study it specifically in this course.\n",
        "\n",
        "**Example**: We are building a model to predict amount of money a customer will spend at website C using the amount of money they spent websites A and B as predictor variables. Here is some example data:\n",
        "\n",
        "A  | B  |  C\n",
        "----|----|----\n",
        "2 | 3 | 8\n",
        "4 | 6 | 16\n",
        "3 | 7 | 17\n",
        "5 | 2 | 9\n",
        "\n",
        "There are many ways that we could use this data to build a model to predict how much money a new customer (who is not in the data set) will spend at website C. One way we could build a model is to assume that the amount spent at website C is a linear function of the amounts a customer spent at websites A and B:\n",
        "\n",
        "\\begin{align}\n",
        "\\hat{C} = x_1A + x_2B .\n",
        "\\end{align}\n",
        "\n",
        "The model requires numbers (sometimes called \"weights\") for $x_1$ and $x_2$.\n",
        "\n",
        "One way to find the weights using the data is to set up the following system of equations:\n",
        "\n",
        "\\begin{array}{lcl} 2x_1  + 3x_2 & = & 8\n",
        "\\\\ 4x_1  + 6x_2 & = & 16\n",
        "\\\\ 3x_1 + 7x_2 & = & 17\n",
        "\\\\ 5x_1 +  2x_2 & = & 9\\end{array}\n",
        "\n",
        "\n",
        "**Question**: Do you notice any potential challenges we will face if we try to find a solution to this system? (Hint: there are \\___ equations and \\___ unknowns.)\n",
        "\n",
        "**Question**: Do you see any vectors in this system? What dimension(s) do these vectors live in?  \n",
        "\n",
        "With real data, finding an exact solution to a system is usually impossible, so we will have to settle for an approximate solution. We will spend most of our time in this course building the tools we need in order to find these approximate solutions."
      ],
      "metadata": {
        "id": "FR3Q3NDvES9g"
      }
    }
  ]
}